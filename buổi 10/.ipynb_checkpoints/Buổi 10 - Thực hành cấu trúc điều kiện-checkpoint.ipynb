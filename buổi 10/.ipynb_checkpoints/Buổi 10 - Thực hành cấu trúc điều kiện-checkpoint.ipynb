{
 "cells": [
  {
   "cell_type": "markdown",
   "id": "dcdb816e",
   "metadata": {},
   "source": [
    "# Thực hành cấu trúc điều khiển\n",
    "\n",
    "### Bài 1\n",
    "\n",
    "Cho phương trình bậc 2: ax^2 + bx + c = 0\n",
    "\n",
    "Nhập a, b, c\n",
    "\n",
    "Giải và biện luận phương trình trên"
   ]
  },
  {
   "cell_type": "code",
   "execution_count": 2,
   "id": "b5a5c325",
   "metadata": {
    "scrolled": false
   },
   "outputs": [
    {
     "name": "stdout",
     "output_type": "stream",
     "text": [
      "nhap a:2\n",
      "nhap b:6\n",
      "nhap c:3\n"
     ]
    },
    {
     "ename": "NameError",
     "evalue": "name 'sqrt' is not defined",
     "output_type": "error",
     "traceback": [
      "\u001b[1;31m---------------------------------------------------------------------------\u001b[0m",
      "\u001b[1;31mNameError\u001b[0m                                 Traceback (most recent call last)",
      "Input \u001b[1;32mIn [2]\u001b[0m, in \u001b[0;36m<cell line: 7>\u001b[1;34m()\u001b[0m\n\u001b[0;32m     19\u001b[0m     \u001b[38;5;28mprint\u001b[39m(\u001b[38;5;124m'\u001b[39m\u001b[38;5;124mphương trình vô nghiệm\u001b[39m\u001b[38;5;124m'\u001b[39m)\n\u001b[0;32m     20\u001b[0m \u001b[38;5;28;01melse\u001b[39;00m:\n\u001b[1;32m---> 21\u001b[0m     x1\u001b[38;5;241m=\u001b[39m(\u001b[38;5;241m-\u001b[39mb\u001b[38;5;241m-\u001b[39m\u001b[43msqrt\u001b[49m(d))\u001b[38;5;241m/\u001b[39m(\u001b[38;5;241m2\u001b[39m\u001b[38;5;241m*\u001b[39ma)\n\u001b[0;32m     22\u001b[0m     x2\u001b[38;5;241m=\u001b[39m(\u001b[38;5;241m-\u001b[39mb\u001b[38;5;241m+\u001b[39msqrt(d))\u001b[38;5;241m/\u001b[39m(\u001b[38;5;241m2\u001b[39m\u001b[38;5;241m*\u001b[39ma)\n\u001b[0;32m     23\u001b[0m     \u001b[38;5;28mprint\u001b[39m(\u001b[38;5;124m\"\u001b[39m\u001b[38;5;124mphương trình có 2 nghiệm\u001b[39m\u001b[38;5;124m\"\u001b[39m,\u001b[38;5;124m\"\u001b[39m\u001b[38;5;124mx1= \u001b[39m\u001b[38;5;124m\"\u001b[39m, x1,\u001b[38;5;124m\"\u001b[39m\u001b[38;5;124mx2 =\u001b[39m\u001b[38;5;124m\"\u001b[39m ,x2)\n",
      "\u001b[1;31mNameError\u001b[0m: name 'sqrt' is not defined"
     ]
    }
   ],
   "source": [
    "#giải phương trình bậc 2:ax^2+bx+c=0\n",
    "from math import sqrt\n",
    "a=float(input(\"nhap a:\"))\n",
    "b=float(input(\"nhap b:\"))\n",
    "c=float(input(\"nhap c:\"))\n",
    "\n",
    "if a == 0:\n",
    "    if b==0:\n",
    "        if c==0:\n",
    "            print('phương trình vô số nghiệm')\n",
    "        else:\n",
    "            print(\"phương trình vô nghiệm\")\n",
    "        \n",
    "    else:\n",
    "        print('phương trình có 1 nghiệm x= :',-c/b)\n",
    "else :\n",
    "    d=b**2-4*a*c\n",
    "    if d<0 :\n",
    "        print('phương trình vô nghiệm')\n",
    "    else:\n",
    "        x1=(-b-sqrt(d))/(2*a)\n",
    "        x2=(-b+sqrt(d))/(2*a)\n",
    "        print(\"phương trình có 2 nghiệm\",\"x1= \", x1,\"x2 =\" ,x2)\n",
    "    \n",
    "\n",
    "    \n",
    "    \n",
    "        "
   ]
  },
  {
   "cell_type": "code",
   "execution_count": null,
   "id": "f39a1794",
   "metadata": {},
   "outputs": [],
   "source": [
    "import math\n",
    " \n",
    "\"\"\"\n",
    "# Giải phương trình bậc 2: ax2 + bx + c = 0\n",
    "# @param a: hệ số bậc 2\n",
    "# @param b: hệ số bậc 1\n",
    "# @param c: số hạng tự do\n",
    "\"\"\"\n",
    "def giaiPTBac2(a, b, c):\n",
    "    # kiểm tra các hệ số\n",
    "    if (a == 0):\n",
    "        if (b == 0):\n",
    "            print (\"Phương trình vô nghiệm!\");\n",
    "        else:\n",
    "            print (\"Phương trình có một nghiệm: x = \", + (-c / b));\n",
    "        return;"
   ]
  },
  {
   "cell_type": "markdown",
   "id": "6f7d329d",
   "metadata": {},
   "source": [
    "### Bài 2\n",
    "\n",
    "Hãy nhập vào một số\n",
    "\n",
    "Xác định coi đó có phải là số nguyên tố hay không"
   ]
  },
  {
   "cell_type": "code",
   "execution_count": 15,
   "id": "049c85f5",
   "metadata": {},
   "outputs": [
    {
     "name": "stdout",
     "output_type": "stream",
     "text": [
      "nhap so:4\n",
      "không là số nguyên tố\n"
     ]
    }
   ],
   "source": [
    "n=int(input(\"nhap so:\"))\n",
    "if n<2:\n",
    "    print( \"không là số nguyên tố\")\n",
    "else:\n",
    "    if n%2==0:\n",
    "        print('không là số nguyên tố')\n",
    "    else:\n",
    "        print('là số nguyên tố')\n",
    "    \n",
    "    "
   ]
  },
  {
   "cell_type": "markdown",
   "id": "75f7717b",
   "metadata": {},
   "source": [
    "### Bài 3\n",
    "\n",
    "Hãy nhập vào số n\n",
    "\n",
    "Hãy đếm số chữ số 0 tận cùng của n giai thừa\n",
    "\n",
    "(Bài này nâng cao, mọi người có thể bỏ qua)"
   ]
  },
  {
   "cell_type": "code",
   "execution_count": null,
   "id": "789e0e76",
   "metadata": {},
   "outputs": [],
   "source": [
    "n=int(input('nhap so:'))\n"
   ]
  },
  {
   "cell_type": "markdown",
   "id": "29cd6c81",
   "metadata": {},
   "source": [
    "### Bài 4\n",
    "\n",
    "In ra tất cả các số chia hết cho 3 nhỏ hơn 100"
   ]
  },
  {
   "cell_type": "code",
   "execution_count": 14,
   "id": "0b848981",
   "metadata": {},
   "outputs": [
    {
     "name": "stdout",
     "output_type": "stream",
     "text": [
      "0\n",
      "3\n",
      "6\n",
      "9\n",
      "12\n",
      "15\n",
      "18\n",
      "21\n",
      "24\n",
      "27\n",
      "30\n",
      "33\n",
      "36\n",
      "39\n",
      "42\n",
      "45\n",
      "48\n",
      "51\n",
      "54\n",
      "57\n",
      "60\n",
      "63\n",
      "66\n",
      "69\n",
      "72\n",
      "75\n",
      "78\n",
      "81\n",
      "84\n",
      "87\n",
      "90\n",
      "93\n",
      "96\n",
      "99\n"
     ]
    }
   ],
   "source": [
    "for i in range(100):\n",
    "    if(i%3 = 0):\n",
    "        print(i)"
   ]
  },
  {
   "cell_type": "markdown",
   "id": "04dbf99b",
   "metadata": {},
   "source": [
    "### Bài 5\n",
    "\n",
    "In ra tất cả các số lẻ nhưng không chia hết cho 3 nhỏ hơn 100"
   ]
  },
  {
   "cell_type": "code",
   "execution_count": 15,
   "id": "769eb439",
   "metadata": {},
   "outputs": [
    {
     "name": "stdout",
     "output_type": "stream",
     "text": [
      "5\n",
      "7\n",
      "11\n",
      "13\n",
      "17\n",
      "19\n",
      "23\n",
      "25\n",
      "29\n",
      "31\n",
      "35\n",
      "37\n",
      "41\n",
      "43\n",
      "47\n",
      "49\n",
      "53\n",
      "55\n",
      "59\n",
      "61\n",
      "65\n",
      "67\n",
      "71\n",
      "73\n",
      "77\n",
      "79\n",
      "83\n",
      "85\n",
      "89\n",
      "91\n",
      "95\n",
      "97\n"
     ]
    }
   ],
   "source": [
    "for i in range(3,100):\n",
    "    if(i%3 != 0)and (i%2!=0):\n",
    "        print(i)"
   ]
  },
  {
   "cell_type": "markdown",
   "id": "26dd47fb",
   "metadata": {},
   "source": [
    "### Bài 5\n",
    "\n",
    "Tại một cửa hàng nọ có menu như sau:\n",
    "\n",
    "1. Gà rán giá 35k\n",
    "2. Hamburger giá 50k\n",
    "3. Pesi giá 10k\n",
    "\n",
    "Nhập số lượng món hàng cần mua\n",
    "\n",
    "Tính và in ra tổng giá tiền (hiển thị có dấu chấm mỗi 3 chữ số để người dùng để quan sát)\n",
    "\n",
    "Nếu giá trị đơn hàng trên 2 triệu, giảm 10% cho khách, trên 4 triệu, giảm 15%\n",
    "\n",
    "Tính và in ra tổng giá tiền được giảm (hiển thị có dấu chấm mỗi 3 chữ số để người dùng để quan sát)\n",
    "\n",
    "Tính và in ra tổng giá tiền khách cần trả (hiển thị có dấu chấm mỗi 3 chữ số để người dùng để quan sát)\n",
    "\n",
    "In ra dòng chữ \"Cảm ơn quý khách đã mua hàng\""
   ]
  },
  {
   "cell_type": "code",
   "execution_count": 28,
   "id": "8509df1e",
   "metadata": {},
   "outputs": [
    {
     "name": "stdout",
     "output_type": "stream",
     "text": [
      "Gà rán:45\n",
      "Hamburger:34\n",
      "pepsi:54\n",
      "Hóa đơn:\n",
      "Gà rán          35.000 x 45\n",
      "Hambuger        50.000 x 34\n",
      "Pepsi           10.000 x 54\n",
      "Tổng:\n",
      "Gà rán          1575000 đ\n",
      "Hamburger       1700000 đ\n",
      "Pepsi           540000 đ\n",
      "Tổng cộng: 3815000 đ\n",
      "Tổng giá tiền được giảm: 381500.0 đ\n",
      "Tổng tiền cần trả: 3433500.0 đ\n",
      "Cảm ơn quý khách đã mua hàng\n"
     ]
    }
   ],
   "source": [
    "gr = int(input('Gà rán:'))\n",
    "hbg = int(input('Hamburger:'))\n",
    "ps = int(input('pepsi:'))\n",
    "\n",
    "print(\"Hóa đơn:\")\n",
    "\n",
    "print('Gà rán          35.000 x',gr)\n",
    "print('Hambuger        50.000 x',hbg)\n",
    "print('Pepsi           10.000 x',ps)\n",
    "print(\"Tổng:\")\n",
    "print('Gà rán',\"        \",35000*gr,\"đ\")\n",
    "print('Hamburger',\"     \",50000*hbg,\"đ\")\n",
    "print('Pepsi',\"         \",10000*ps, \"đ\")\n",
    "Tc= 35000*gr+50000*hbg+10000*ps\n",
    "print(\"Tổng cộng:\", Tc,\"đ\")\n",
    "if Tc >2000000:\n",
    "    tienduocgiam =Tc*0.1\n",
    "    print('Tổng giá tiền được giảm:', tienduocgiam,\"đ\")\n",
    "    tongtientra=Tc*0.9\n",
    "    print('Tổng tiền cần trả:', tongtientra,\"đ\")\n",
    "    \n",
    "elif Tc>4000000:\n",
    "    tienduocgiam = Tc*0.15\n",
    "    print('Tổng giá tiền được giảm:', tienduocgiam,\"đ\")\n",
    "    tongtientra=Tc*0.9\n",
    "    print('Tổng tiền cần trả:', tongtientra,\"đ\")\n",
    "else:\n",
    "    tienduocgiam=0\n",
    "    tongtientra=Tc\n",
    "    print('Tổng tiền cần trả:', tongtientra,\"đ\")\n",
    "print('Cảm ơn quý khách đã mua hàng')\n",
    "    \n",
    "    "
   ]
  },
  {
   "cell_type": "code",
   "execution_count": null,
   "id": "86314c62",
   "metadata": {},
   "outputs": [],
   "source": [
    "print(\"1. Gà rán giá 35k\")\n",
    "print(\"2. Hamburger giá 50k\")\n",
    "print(\"3. Pesi giá 10k\")\n",
    "print()\n",
    "\n",
    "garan = int(input(\"Nhập số lượng gà rán: \"))\n",
    "hamburger = int(input(\"Nhập số lượng hamburger: \"))\n",
    "pepsi = int(input(\"Nhập số lượng pesi: \"))\n",
    "\n",
    "tong = garan*35000 + pepsi*10000 + hamburger*50000\n",
    "\n",
    "if 4000000 >= tong > 2000000:\n",
    "    tiengiam = int(tong*0.1)\n",
    "    tong = tong - tiengiam\n",
    "    \n",
    "elif tong>4000000:\n",
    "    tiengiam = int(tong*0.15)\n",
    "    tong = tong-tiengiam\n",
    "else:\n",
    "    tiengiam = 0\n",
    "\n",
    "tiengiam = str(tiengiam)\n",
    "sodaucham = (len(tiengiam) - 1)//3\n",
    "vt = len(tiengiam) - 3\n",
    "for i in range(sodaucham):\n",
    "    tiengiam = tiengiam[:vt] + \".\" + tiengiam[vt:]\n",
    "    vt -= 3\n",
    "    \n",
    "tong = str(tong)\n",
    "sodaucham = (len(tong) - 1)//3\n",
    "vt = len(tong) - 3\n",
    "for i in range(sodaucham):\n",
    "    tong = tong[:vt] + \".\" + tong[vt:]\n",
    "    vt -= 3\n",
    "    \n",
    "print()\n",
    "print(\"Số tiền được giảm giá là:\",tiengiam,\"VNĐ\")\n",
    "print(\"Số tiền cần thanh toán là:\",tong,\"VNĐ\")\n",
    "print()\n",
    "print(\"Cảm ơn quý khách đã mua hàng!\")"
   ]
  },
  {
   "cell_type": "markdown",
   "id": "ab10a1ce",
   "metadata": {},
   "source": [
    "### Bài 6\n",
    "\n",
    "Nhập vào chiều cao (cm) và cân nặng (kg), tính số BMI và xét rồi xin kết quả theo dữ liệu sau:\n",
    "\n",
    "- BMI < 16: Gầy cấp độ III\n",
    "- 16 <= BMI < 17:  Gầy cấp độ II\n",
    "- 17<= BMI < 18.5: Gầy cấp độ I\n",
    "- 18.5 <= BMI < 25: Bình thường\n",
    "- 25 <= BMI < 30: Thừa cân\n",
    "- 30 <= BMI < 35 : Béo phì cấp độ I\n",
    "- 35 <= BMI < 40: Béo phì cấp độ II\n",
    "- BMI > 40: Béo phì cấp độ III"
   ]
  },
  {
   "cell_type": "code",
   "execution_count": 7,
   "id": "1058f441",
   "metadata": {},
   "outputs": [
    {
     "name": "stdout",
     "output_type": "stream",
     "text": [
      "nhap chieu cao:173\n",
      "nhap can nang:65\n",
      "0.18786127167630057\n"
     ]
    }
   ],
   "source": [
    "cc=float(input('nhap chieu cao:'))\n",
    "cn=float(input('nhap can nang:'))\n",
    "BMI=cn/(cc*2)\n",
    "print(BMI)\n",
    "if 16<BMI:\n",
    "    print(\"gay cap do 3\")\n",
    "elif 16<=BMI<17:\n",
    "    print(\"gay cap do 2\")\n",
    "elif 17<= BMI < 18.5:\n",
    "    print(\"gay cap do 1\")\n",
    "elif 18.5 <= BMI < 25:\n",
    "    print(\"binh thuong\")\n",
    "elif 25 <= BMI < 30:\n",
    "    print(\"thua can\")\n",
    "elif 30 <= BMI < 35:\n",
    "    print(\"beo phi cap do 1\")\n",
    "elif 35 <= BMI < 40:\n",
    "    print(\"beo phi cap do 2\")\n",
    "elif BMI > 40:\n",
    "    print(\"beo phi cap do 3\")\n",
    "    "
   ]
  },
  {
   "cell_type": "markdown",
   "id": "f7620342",
   "metadata": {},
   "source": [
    "### Bài 7\n",
    "\n",
    "Nhập ngày, tháng, năm. Hãy tính và in ra màn hình kể từ đầu năm đến ngày vừa nhập là bao nhiêu ngày."
   ]
  },
  {
   "cell_type": "code",
   "execution_count": null,
   "id": "4c57f0a5",
   "metadata": {},
   "outputs": [],
   "source": []
  }
 ],
 "metadata": {
  "kernelspec": {
   "display_name": "Python 3 (ipykernel)",
   "language": "python",
   "name": "python3"
  },
  "language_info": {
   "codemirror_mode": {
    "name": "ipython",
    "version": 3
   },
   "file_extension": ".py",
   "mimetype": "text/x-python",
   "name": "python",
   "nbconvert_exporter": "python",
   "pygments_lexer": "ipython3",
   "version": "3.10.4"
  }
 },
 "nbformat": 4,
 "nbformat_minor": 5
}
